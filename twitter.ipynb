{
 "cells": [
  {
   "cell_type": "markdown",
   "metadata": {},
   "source": [
    "# Twitter feed analysis using Twython"
   ]
  },
  {
   "cell_type": "code",
   "execution_count": 1,
   "metadata": {},
   "outputs": [],
   "source": [
    "import pandas as pd\n",
    "import json\n",
    "from twython import Twython\n",
    "# !pip3 install TwitterAPI --upgrade"
   ]
  },
  {
   "cell_type": "markdown",
   "metadata": {},
   "source": [
    "# Search API"
   ]
  },
  {
   "cell_type": "code",
   "execution_count": 2,
   "metadata": {},
   "outputs": [],
   "source": [
    "credentials = {}  \n",
    "credentials['CONSUMER_KEY'] = 'xdud9FSorfoBo7uMAySUvZqwa' \n",
    "credentials['CONSUMER_SECRET'] = '6prpLIb5wgErEN1h9ilVrMCMLfwWoWBJDYcDmejjhqSrBQX7y3'   \n",
    "credentials['ACCESS_TOKEN'] = '451935727-2CDFLGtGpDnVII1NWmRgzEJ1PlngviCtmKrYpwpi'  \n",
    "credentials['ACCESS_SECRET'] = 'tKcHhnyNrYKpblkqOyZPOdy4YKpNpQ5D88VrTDpMOKHpk'"
   ]
  },
  {
   "cell_type": "code",
   "execution_count": 3,
   "metadata": {},
   "outputs": [],
   "source": [
    "# Save the credentials object to file\n",
    "with open(\"twitter_credentials.json\", \"w\") as file:  \n",
    "    json.dump(credentials, file)"
   ]
  },
  {
   "cell_type": "code",
   "execution_count": 4,
   "metadata": {},
   "outputs": [],
   "source": [
    "# Load credentials from json file\n",
    "with open(\"twitter_credentials.json\", \"r\") as file:  \n",
    "    creds = json.load(file)"
   ]
  },
  {
   "cell_type": "code",
   "execution_count": 5,
   "metadata": {},
   "outputs": [],
   "source": [
    "# !pip install twython"
   ]
  },
  {
   "cell_type": "code",
   "execution_count": 6,
   "metadata": {},
   "outputs": [],
   "source": [
    "# Instantiate an object\n",
    "python_tweets = Twython(creds['CONSUMER_KEY'], creds['CONSUMER_SECRET'])"
   ]
  },
  {
   "cell_type": "code",
   "execution_count": 7,
   "metadata": {},
   "outputs": [],
   "source": [
    "query = {'q': 'India',  \n",
    "        'result_type': 'popular',\n",
    "        'count': 10,\n",
    "        'lang': 'en',\n",
    "        }"
   ]
  },
  {
   "cell_type": "code",
   "execution_count": 8,
   "metadata": {},
   "outputs": [],
   "source": [
    "dict_ = {'user': [], 'date': [], 'text': [], 'favorite_count': []}\n",
    "for status in python_tweets.search(**query)['statuses']:  \n",
    "    dict_['user'].append(status['user']['screen_name'])\n",
    "    dict_['date'].append(status['created_at'])\n",
    "    dict_['text'].append(status['text'])\n",
    "    dict_['favorite_count'].append(status['favorite_count'])"
   ]
  },
  {
   "cell_type": "code",
   "execution_count": 9,
   "metadata": {},
   "outputs": [],
   "source": [
    "df = pd.DataFrame(dict_)"
   ]
  },
  {
   "cell_type": "code",
   "execution_count": 10,
   "metadata": {},
   "outputs": [
    {
     "data": {
      "text/html": [
       "<div>\n",
       "<style scoped>\n",
       "    .dataframe tbody tr th:only-of-type {\n",
       "        vertical-align: middle;\n",
       "    }\n",
       "\n",
       "    .dataframe tbody tr th {\n",
       "        vertical-align: top;\n",
       "    }\n",
       "\n",
       "    .dataframe thead th {\n",
       "        text-align: right;\n",
       "    }\n",
       "</style>\n",
       "<table border=\"1\" class=\"dataframe\">\n",
       "  <thead>\n",
       "    <tr style=\"text-align: right;\">\n",
       "      <th></th>\n",
       "      <th>user</th>\n",
       "      <th>date</th>\n",
       "      <th>text</th>\n",
       "      <th>favorite_count</th>\n",
       "    </tr>\n",
       "  </thead>\n",
       "  <tbody>\n",
       "    <tr>\n",
       "      <th>0</th>\n",
       "      <td>narendramodi</td>\n",
       "      <td>Wed Mar 13 12:40:22 +0000 2019</td>\n",
       "      <td>No place for middlemen.\\n\\nNo tolerance for co...</td>\n",
       "      <td>30857</td>\n",
       "    </tr>\n",
       "    <tr>\n",
       "      <th>4</th>\n",
       "      <td>narendramodi</td>\n",
       "      <td>Wed Mar 13 05:30:30 +0000 2019</td>\n",
       "      <td>My fellow Indians, \\n\\nUrging you all to stren...</td>\n",
       "      <td>57366</td>\n",
       "    </tr>\n",
       "    <tr>\n",
       "      <th>8</th>\n",
       "      <td>narendramodi</td>\n",
       "      <td>Wed Mar 13 05:12:14 +0000 2019</td>\n",
       "      <td>Dear @msdhoni, @imVkohli and @ImRo45, \\nYou ar...</td>\n",
       "      <td>36062</td>\n",
       "    </tr>\n",
       "    <tr>\n",
       "      <th>1</th>\n",
       "      <td>narendramodi</td>\n",
       "      <td>Wed Mar 13 05:01:03 +0000 2019</td>\n",
       "      <td>Respected @CitiznMukherjee, \\nBeing among Indi...</td>\n",
       "      <td>22154</td>\n",
       "    </tr>\n",
       "    <tr>\n",
       "      <th>2</th>\n",
       "      <td>narendramodi</td>\n",
       "      <td>Wed Mar 13 04:42:38 +0000 2019</td>\n",
       "      <td>Dear @RNTata2000, @anandmahindra and @ashishch...</td>\n",
       "      <td>20457</td>\n",
       "    </tr>\n",
       "    <tr>\n",
       "      <th>5</th>\n",
       "      <td>narendramodi</td>\n",
       "      <td>Wed Mar 13 04:39:37 +0000 2019</td>\n",
       "      <td>India is proud of @Neeraj_chopra1, @DuttYogi a...</td>\n",
       "      <td>13944</td>\n",
       "    </tr>\n",
       "    <tr>\n",
       "      <th>7</th>\n",
       "      <td>narendramodi</td>\n",
       "      <td>Wed Mar 13 04:15:26 +0000 2019</td>\n",
       "      <td>Four requests for a stronger democracy.\\n\\nAn ...</td>\n",
       "      <td>17331</td>\n",
       "    </tr>\n",
       "    <tr>\n",
       "      <th>6</th>\n",
       "      <td>AskAnshul</td>\n",
       "      <td>Tue Mar 12 12:11:03 +0000 2019</td>\n",
       "      <td>Whenever Israel faces terror attack, Western M...</td>\n",
       "      <td>10991</td>\n",
       "    </tr>\n",
       "    <tr>\n",
       "      <th>3</th>\n",
       "      <td>pewdiepie</td>\n",
       "      <td>Tue Mar 12 11:04:21 +0000 2019</td>\n",
       "      <td>tseries now have people spamming my diss track...</td>\n",
       "      <td>117253</td>\n",
       "    </tr>\n",
       "    <tr>\n",
       "      <th>9</th>\n",
       "      <td>AJEnglish</td>\n",
       "      <td>Tue Mar 12 10:00:00 +0000 2019</td>\n",
       "      <td>Cow vigilantism is on the rise in India. https...</td>\n",
       "      <td>5835</td>\n",
       "    </tr>\n",
       "  </tbody>\n",
       "</table>\n",
       "</div>"
      ],
      "text/plain": [
       "           user                            date  \\\n",
       "0  narendramodi  Wed Mar 13 12:40:22 +0000 2019   \n",
       "4  narendramodi  Wed Mar 13 05:30:30 +0000 2019   \n",
       "8  narendramodi  Wed Mar 13 05:12:14 +0000 2019   \n",
       "1  narendramodi  Wed Mar 13 05:01:03 +0000 2019   \n",
       "2  narendramodi  Wed Mar 13 04:42:38 +0000 2019   \n",
       "5  narendramodi  Wed Mar 13 04:39:37 +0000 2019   \n",
       "7  narendramodi  Wed Mar 13 04:15:26 +0000 2019   \n",
       "6     AskAnshul  Tue Mar 12 12:11:03 +0000 2019   \n",
       "3     pewdiepie  Tue Mar 12 11:04:21 +0000 2019   \n",
       "9     AJEnglish  Tue Mar 12 10:00:00 +0000 2019   \n",
       "\n",
       "                                                text  favorite_count  \n",
       "0  No place for middlemen.\\n\\nNo tolerance for co...           30857  \n",
       "4  My fellow Indians, \\n\\nUrging you all to stren...           57366  \n",
       "8  Dear @msdhoni, @imVkohli and @ImRo45, \\nYou ar...           36062  \n",
       "1  Respected @CitiznMukherjee, \\nBeing among Indi...           22154  \n",
       "2  Dear @RNTata2000, @anandmahindra and @ashishch...           20457  \n",
       "5  India is proud of @Neeraj_chopra1, @DuttYogi a...           13944  \n",
       "7  Four requests for a stronger democracy.\\n\\nAn ...           17331  \n",
       "6  Whenever Israel faces terror attack, Western M...           10991  \n",
       "3  tseries now have people spamming my diss track...          117253  \n",
       "9  Cow vigilantism is on the rise in India. https...            5835  "
      ]
     },
     "execution_count": 10,
     "metadata": {},
     "output_type": "execute_result"
    }
   ],
   "source": [
    "df.sort_values(by='date', inplace=True, ascending=False)  \n",
    "df.head(10)  "
   ]
  },
  {
   "cell_type": "markdown",
   "metadata": {},
   "source": [
    "# Streaming API"
   ]
  },
  {
   "cell_type": "code",
   "execution_count": 11,
   "metadata": {},
   "outputs": [],
   "source": [
    "from twython import TwythonStreamer  \n",
    "import csv"
   ]
  },
  {
   "cell_type": "code",
   "execution_count": 12,
   "metadata": {},
   "outputs": [],
   "source": [
    "def process_tweet(tweet):  \n",
    "    d = {}\n",
    "    d['hashtags'] = [hashtag['text'] for hashtag in tweet['entities']['hashtags']]\n",
    "    d['text'] = tweet['text']\n",
    "    d['user'] = tweet['user']['screen_name']\n",
    "    d['user_loc'] = tweet['user']['location']\n",
    "    return d"
   ]
  },
  {
   "cell_type": "code",
   "execution_count": 13,
   "metadata": {},
   "outputs": [],
   "source": [
    "class MyStreamer(TwythonStreamer):\n",
    "    \n",
    "    # Received data\n",
    "    def on_success(self, data):\n",
    "        \n",
    "    # Only collect tweets in English\n",
    "        if data['lang'] == 'en':\n",
    "            tweet_data = process_tweet(data)\n",
    "            self.save_to_csv(tweet_data)\n",
    "    \n",
    "    # Problem with the API\n",
    "    def on_error(self, status_code, data):\n",
    "        print(status_code, data)\n",
    "        self.disconnect()\n",
    "    \n",
    "    # Save each tweet to csv file\n",
    "    def save_to_csv(self, tweet):\n",
    "        with open(r'saved_tweets.csv', 'a', encoding='utf-8') as file:\n",
    "            writer = csv.writer(file)\n",
    "            writer.writerow(list(tweet.values()))"
   ]
  },
  {
   "cell_type": "code",
   "execution_count": 14,
   "metadata": {},
   "outputs": [],
   "source": [
    "# Instantiate from our streaming class\n",
    "stream = MyStreamer(creds['CONSUMER_KEY'], creds['CONSUMER_SECRET'],  \n",
    "                    creds['ACCESS_TOKEN'], creds['ACCESS_SECRET'])"
   ]
  },
  {
   "cell_type": "code",
   "execution_count": 18,
   "metadata": {},
   "outputs": [],
   "source": [
    "# Start the stream\n",
    "# stream.statuses.filter(track = 'peace')"
   ]
  },
  {
   "cell_type": "code",
   "execution_count": 19,
   "metadata": {},
   "outputs": [],
   "source": [
    "import ast\n",
    "from collections import Counter"
   ]
  },
  {
   "cell_type": "code",
   "execution_count": 20,
   "metadata": {},
   "outputs": [],
   "source": [
    "tweets = pd.read_csv(\"saved_tweets.csv\", header = None, names = ['hashtags','text','user','location'])"
   ]
  },
  {
   "cell_type": "code",
   "execution_count": 21,
   "metadata": {},
   "outputs": [
    {
     "data": {
      "text/html": [
       "<div>\n",
       "<style scoped>\n",
       "    .dataframe tbody tr th:only-of-type {\n",
       "        vertical-align: middle;\n",
       "    }\n",
       "\n",
       "    .dataframe tbody tr th {\n",
       "        vertical-align: top;\n",
       "    }\n",
       "\n",
       "    .dataframe thead th {\n",
       "        text-align: right;\n",
       "    }\n",
       "</style>\n",
       "<table border=\"1\" class=\"dataframe\">\n",
       "  <thead>\n",
       "    <tr style=\"text-align: right;\">\n",
       "      <th></th>\n",
       "      <th>hashtags</th>\n",
       "      <th>text</th>\n",
       "      <th>user</th>\n",
       "      <th>location</th>\n",
       "    </tr>\n",
       "  </thead>\n",
       "  <tbody>\n",
       "    <tr>\n",
       "      <th>0</th>\n",
       "      <td>[]</td>\n",
       "      <td>@op_hawkeye @NSAGov @HonoredValor @SEALofHonor...</td>\n",
       "      <td>andydeerman118</td>\n",
       "      <td>Queens, NY</td>\n",
       "    </tr>\n",
       "    <tr>\n",
       "      <th>1</th>\n",
       "      <td>[]</td>\n",
       "      <td>RT @SaharaReporters: EXCLUSIVE: Aregbesola Hol...</td>\n",
       "      <td>tomjerryng</td>\n",
       "      <td>NaN</td>\n",
       "    </tr>\n",
       "    <tr>\n",
       "      <th>2</th>\n",
       "      <td>[]</td>\n",
       "      <td>If you start a chain reaction for peace on thi...</td>\n",
       "      <td>ashscheherazade</td>\n",
       "      <td>Washington, DC</td>\n",
       "    </tr>\n",
       "    <tr>\n",
       "      <th>3</th>\n",
       "      <td>[]</td>\n",
       "      <td>RT @QaisiSaleem: @BBCArabic Please ..Save the ...</td>\n",
       "      <td>OmMarya53799397</td>\n",
       "      <td>NaN</td>\n",
       "    </tr>\n",
       "    <tr>\n",
       "      <th>4</th>\n",
       "      <td>[]</td>\n",
       "      <td>RT @ShahNafisa: Peace overtures r welcome but ...</td>\n",
       "      <td>MirAsifKhanDas2</td>\n",
       "      <td>NaN</td>\n",
       "    </tr>\n",
       "  </tbody>\n",
       "</table>\n",
       "</div>"
      ],
      "text/plain": [
       "  hashtags                                               text  \\\n",
       "0       []  @op_hawkeye @NSAGov @HonoredValor @SEALofHonor...   \n",
       "1       []  RT @SaharaReporters: EXCLUSIVE: Aregbesola Hol...   \n",
       "2       []  If you start a chain reaction for peace on thi...   \n",
       "3       []  RT @QaisiSaleem: @BBCArabic Please ..Save the ...   \n",
       "4       []  RT @ShahNafisa: Peace overtures r welcome but ...   \n",
       "\n",
       "              user        location  \n",
       "0   andydeerman118      Queens, NY  \n",
       "1       tomjerryng             NaN  \n",
       "2  ashscheherazade  Washington, DC  \n",
       "3  OmMarya53799397             NaN  \n",
       "4  MirAsifKhanDas2             NaN  "
      ]
     },
     "execution_count": 21,
     "metadata": {},
     "output_type": "execute_result"
    }
   ],
   "source": [
    "tweets.head()"
   ]
  },
  {
   "cell_type": "code",
   "execution_count": 23,
   "metadata": {},
   "outputs": [],
   "source": [
    "list_hashtag_strings = [entry for entry in tweets.hashtags]\n",
    "list_hashtag_lists = ast.literal_eval(','.join(list_hashtag_strings))\n",
    "hashtag_list = [ht.lower() for list_ in list_hashtag_lists for ht in list_ ]"
   ]
  },
  {
   "cell_type": "code",
   "execution_count": 24,
   "metadata": {},
   "outputs": [
    {
     "data": {
      "text/plain": [
       "[('prayforlagosisland', 6),\n",
       " ('peace', 5),\n",
       " ('youknewthat', 3),\n",
       " ('adn191stweeksary', 3),\n",
       " ('travel', 3),\n",
       " ('nature', 3),\n",
       " ('photo', 3),\n",
       " ('home', 3),\n",
       " ('relax', 3),\n",
       " ('forest', 3),\n",
       " ('country', 3),\n",
       " ('otd', 3),\n",
       " ('thequeenmzansi', 3),\n",
       " ('bethegeneration', 2),\n",
       " ('stopcyberwarfare', 2)]"
      ]
     },
     "execution_count": 24,
     "metadata": {},
     "output_type": "execute_result"
    }
   ],
   "source": [
    "counter_hashtags = Counter(hashtag_list)  \n",
    "counter_hashtags.most_common(15)"
   ]
  },
  {
   "cell_type": "code",
   "execution_count": 25,
   "metadata": {},
   "outputs": [],
   "source": [
    "from geopy.geocoders import Nominatim  \n",
    "import gmplot\n",
    "# ! pip install geopy\n",
    "# ! pip install gmplot"
   ]
  },
  {
   "cell_type": "code",
   "execution_count": 26,
   "metadata": {},
   "outputs": [],
   "source": [
    "geolocator = Nominatim(user_agent=\"graduate student self learning\")\n",
    "\n",
    "# Go through all tweets and add locations to 'coordinates' dictionary\n",
    "coordinates = {'latitude': [], 'longitude': []}  \n",
    "for count, user_loc in enumerate(tweets.location):  \n",
    "    try:\n",
    "        location = geolocator.geocode(user_loc)\n",
    "\n",
    "        # If coordinates are found for location\n",
    "        if location:\n",
    "            coordinates['latitude'].append(location.latitude)\n",
    "            coordinates['longitude'].append(location.longitude)\n",
    "\n",
    "    # If too many connection requests\n",
    "    except:\n",
    "        pass\n",
    "\n",
    "# Instantiate and center a GoogleMapPlotter object to show our map\n",
    "gmap = gmplot.GoogleMapPlotter(30, 0, 3)\n",
    "\n",
    "# Insert points on the map passing a list of latitudes and longitudes\n",
    "gmap.heatmap(coordinates['latitude'], coordinates['longitude'], radius=20)\n",
    "\n",
    "# Save the map to html file\n",
    "gmap.draw(\"python_heatmap.html\")  "
   ]
  }
 ],
 "metadata": {
  "kernelspec": {
   "display_name": "Python 3",
   "language": "python",
   "name": "python3"
  },
  "language_info": {
   "codemirror_mode": {
    "name": "ipython",
    "version": 3
   },
   "file_extension": ".py",
   "mimetype": "text/x-python",
   "name": "python",
   "nbconvert_exporter": "python",
   "pygments_lexer": "ipython3",
   "version": "3.6.5"
  }
 },
 "nbformat": 4,
 "nbformat_minor": 2
}
